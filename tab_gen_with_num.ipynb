{
 "cells": [
  {
   "cell_type": "code",
   "execution_count": 35,
   "id": "1de72fb2-d8cb-4f77-aed2-1b192b9b988c",
   "metadata": {
    "tags": []
   },
   "outputs": [],
   "source": [
    "# !pip install langchain_community\n",
    "# !pip install boto3 -U"
   ]
  },
  {
   "cell_type": "code",
   "execution_count": 36,
   "id": "90b041b3-25af-4731-a792-14ca610032a1",
   "metadata": {
    "tags": []
   },
   "outputs": [],
   "source": [
    "import pandas as pd\n",
    "import numpy as np\n",
    "import boto3\n",
    "import json\n",
    "from botocore.config import Config\n",
    "from langchain_community.chat_models import BedrockChat\n",
    "from langchain_core.prompts import PromptTemplate\n",
    "from langchain.schema import HumanMessage\n",
    "import math\n",
    "from scipy.stats import ks_2samp\n",
    "from tqdm import tqdm\n",
    "from scipy.stats import chi2_contingency\n",
    "import matplotlib.pyplot as plt"
   ]
  },
  {
   "cell_type": "code",
   "execution_count": 37,
   "id": "e87f5ac2-26dc-40c0-a9d9-37b261c1152e",
   "metadata": {
    "tags": []
   },
   "outputs": [],
   "source": [
    "def generate_schema(df):\n",
    "    schema = {}\n",
    "\n",
    "    # For numeric columns\n",
    "    numeric_columns = df.select_dtypes(include=[np.number]).columns\n",
    "    for col in numeric_columns:\n",
    "        col_stats = {\n",
    "            \"data_type\": \"numeric\",\n",
    "            \"mean\": df[col].mean(),\n",
    "            \"std\": df[col].std(),\n",
    "            \"min\": df[col].min(),\n",
    "            \"max\": df[col].max(),\n",
    "            \"25th_percentile\": df[col].quantile(0.25),\n",
    "            \"50th_percentile\": df[col].quantile(0.50),  # Median\n",
    "            \"75th_percentile\": df[col].quantile(0.75)\n",
    "        }\n",
    "        schema[col] = col_stats\n",
    "\n",
    "    # For categorical columns\n",
    "    categorical_columns = df.select_dtypes(include=['object', 'category']).columns\n",
    "    for col in categorical_columns:\n",
    "        if df[col].nunique() < 50:  # Treat columns with a small number of unique values as categorical\n",
    "            value_counts = df[col].value_counts(normalize=True)\n",
    "            col_stats = {\n",
    "                \"data_type\": \"categorical\",\n",
    "                \"distribution\": value_counts.to_dict()\n",
    "            }\n",
    "            schema[col] = col_stats\n",
    "\n",
    "    # For free-form text columns (treated as 'object' but with high uniqueness)\n",
    "    text_columns = df.select_dtypes(include=['object']).columns\n",
    "    for col in text_columns:\n",
    "        if df[col].nunique() > 50:  # Assume high uniqueness indicates free-form text\n",
    "            text_lengths = df[col].dropna().apply(len)  # Calculate the length of each text entry\n",
    "            col_stats = {\n",
    "                \"data_type\": \"text\",\n",
    "                \"average_length\": text_lengths.mean(),\n",
    "                \"min_length\": text_lengths.min(),\n",
    "                \"max_length\": text_lengths.max(),\n",
    "                \"sample_text\": df[col].dropna().sample(3).tolist()  # Provide a few examples\n",
    "            }\n",
    "            schema[col] = col_stats\n",
    "\n",
    "    return schema"
   ]
  },
  {
   "cell_type": "code",
   "execution_count": 38,
   "id": "cd8f275c-4f8a-415f-9c9f-e863409404fc",
   "metadata": {
    "tags": []
   },
   "outputs": [],
   "source": [
    "# Load the model\n",
    "def load_model(top_k, top_p, temperature):\n",
    "    config = Config(read_timeout=1000)\n",
    "    bedrock_runtime = boto3.client(service_name='bedrock-runtime', \n",
    "                          region_name='us-east-1',\n",
    "                          config=config)\n",
    "\n",
    "    model_id = \"anthropic.claude-3-5-sonnet-20240620-v1:0\"\n",
    "    \n",
    "    model_kwargs = { \n",
    "        \"max_tokens\": 200000,\n",
    "        \"temperature\": temperature,\n",
    "        \"top_k\": top_k,\n",
    "        \"top_p\": top_p,\n",
    "        \"stop_sequences\": [\"\\n\\nHuman\"]\n",
    "    }\n",
    "    \n",
    "    model = BedrockChat(\n",
    "        client=bedrock_runtime,\n",
    "        model_id=model_id,\n",
    "        model_kwargs=model_kwargs,\n",
    "    )\n",
    "\n",
    "    return model"
   ]
  },
  {
   "cell_type": "code",
   "execution_count": 39,
   "id": "233093cc-23d7-400c-8f6a-2fa240b11db0",
   "metadata": {
    "tags": []
   },
   "outputs": [],
   "source": [
    "def format_examples(df):\n",
    "    non_numeric_columns = df.select_dtypes(exclude=[np.number]).columns\n",
    "    examples_str = \"\"\n",
    "    for index, row in df[non_numeric_columns].iterrows():\n",
    "        row_string = \", \".join([f\"{non_numeric_columns[i]}: {row[i]}\" for i in range(len(non_numeric_columns))])\n",
    "        examples_str += row_string + \"\\n\"\n",
    "    return examples_str"
   ]
  },
  {
   "cell_type": "code",
   "execution_count": 40,
   "id": "040afb5e-e558-4222-b404-8dee15894ce2",
   "metadata": {
    "tags": []
   },
   "outputs": [],
   "source": [
    "def format_rows(row):\n",
    "    return  \", \".join([f\"{col}: {row[col]}\" for col in row.index if pd.notna(row[col])])"
   ]
  },
  {
   "cell_type": "code",
   "execution_count": 41,
   "id": "dd947f38-3477-4ed4-996e-406a1b126ddc",
   "metadata": {
    "tags": []
   },
   "outputs": [],
   "source": [
    "def row_len(text):\n",
    "    return len(text)"
   ]
  },
  {
   "cell_type": "code",
   "execution_count": 42,
   "id": "c53cbf54-c06b-440b-a2a6-1b18fb6b9263",
   "metadata": {
    "tags": []
   },
   "outputs": [],
   "source": [
    "def max_examples(csv_data, max_context_tokens, prompt_tokens, response_token_buffer=0.20):\n",
    "    non_numeric_col = csv_data.select_dtypes(exclude=[np.number])\n",
    "    formatted_exmaples = non_numeric_col.apply(format_rows, axis =1)\n",
    "    char_per_row = int(formatted_exmaples.apply(row_len).mean())\n",
    "    max_available = int((max_context_tokens*(1-response_token_buffer)) / char_per_row)\n",
    "    max_examples_percent = int(0.6 * len(csv_data))\n",
    "    return (min(max_available, max_examples_percent),char_per_row)"
   ]
  },
  {
   "cell_type": "code",
   "execution_count": 43,
   "id": "5a1f4914-3252-49da-ba4e-bc66125b2eb3",
   "metadata": {
    "tags": []
   },
   "outputs": [],
   "source": [
    "def select_strat_col(csv_data, num_cols=2):\n",
    "    cat_cols = csv_data.select_dtypes(include=['object', 'category']).columns\n",
    "    score = {}\n",
    "    for col in cat_cols:\n",
    "        value_counts = csv_data[col].value_counts(normalize=True)\n",
    "        max_prop = value_counts.max()\n",
    "        score[col] = max_prop\n",
    "    sort = sorted(score, key=score.get)\n",
    "    return sort[:num_cols]"
   ]
  },
  {
   "cell_type": "code",
   "execution_count": 44,
   "id": "e5abfd3d-d65b-422a-8cf5-7c569b2488d5",
   "metadata": {
    "tags": []
   },
   "outputs": [],
   "source": [
    "def generate_examples(csv_data, num_examples):\n",
    "    select_col = select_strat_col(csv_data, num_cols=2)\n",
    "    if select_col:\n",
    "        sample = csv_data.groupby(select_col, group_keys=False).apply(\n",
    "            lambda x: x.sample(frac=min(1.0, num_examples / len(csv_data)))\n",
    "        )\n",
    "    else:\n",
    "        sample = csv_data.sample(num_examples)\n",
    "    return sample"
   ]
  },
  {
   "cell_type": "code",
   "execution_count": 45,
   "id": "d5bece09-2a67-41db-a822-316b66390c65",
   "metadata": {
    "tags": []
   },
   "outputs": [],
   "source": [
    "def create_prompt_template_without_numeric():\n",
    "    template = \"\"\"\n",
    "    You are a helpful AI assistant for creating new datasets. \n",
    "    Your task is to generate new observations based on the provided examples and schema.\n",
    "    The new observations should be similar to the examples.\n",
    "\n",
    "    **Categorical Data**: \n",
    "    - For each categorical column, ensure that the frequency distribution of the generated data matches the distribution provided in the schema.\n",
    "    - The proportion of each category (e.g., Male/Female) should be preserved based on the frequencies in the schema.\n",
    "    - Do no include any null values. Alway use a value from one of the categories.\n",
    "\n",
    "    **Free-Form Text**:\n",
    "    - For free-form text columns, generate text that is similar in style and structure to the examples provided.\n",
    "    - Ensure that the generated text has a length that falls within the range indicated in the schema.\n",
    "    - The average length of the generated text should be close to the average length provided in the schema.\n",
    "\n",
    "    The formatting of the new observations should match the formatting of the examples: \n",
    "    column 1: value 1, column 2: value 2...column n: value n.\n",
    "\n",
    "    **Examples**:\n",
    "    {examples}\n",
    "\n",
    "    **Schema**:\n",
    "    {schema}\n",
    "    \n",
    "    **Count**: Generate {count} new observations.\n",
    "\n",
    "    Only return the new observations, do not include any explanation.\n",
    "    \"\"\"\n",
    "    \n",
    "    prompt = PromptTemplate(\n",
    "        template=template,\n",
    "        input_variables=[\"examples\", \"schema\", \"count\"]\n",
    "    )\n",
    "\n",
    "    return prompt"
   ]
  },
  {
   "cell_type": "code",
   "execution_count": 46,
   "id": "2555d9a9-714b-413a-9fc9-04b3c5374099",
   "metadata": {
    "tags": []
   },
   "outputs": [],
   "source": [
    "def generate_response_for_categorical_and_text(csv_data, num_examples, schema, row_tokens):\n",
    "    examples = generate_examples(csv_data, num_examples)\n",
    "    prompt_examples = format_examples(examples)  # Use only non-numeric examples\n",
    "    \n",
    "    prompt_template = create_prompt_template_without_numeric()\n",
    "    filled_prompt = prompt_template.format(\n",
    "        examples=prompt_examples,\n",
    "        schema=schema,\n",
    "        count=math.ceil((5000 / row_tokens))\n",
    "    )\n",
    "    \n",
    "    message = HumanMessage(content=filled_prompt)\n",
    "    response = llm([message])\n",
    "    \n",
    "    return response.content"
   ]
  },
  {
   "cell_type": "code",
   "execution_count": 47,
   "id": "8e2e0741-cd1b-4e62-8997-6af3f3a1816e",
   "metadata": {
    "tags": []
   },
   "outputs": [],
   "source": [
    "def generate_numeric(original_df, num_rows):\n",
    "    numeric_columns = original_df.select_dtypes(include=[np.number]).columns\n",
    "    generated_numeric_data = pd.DataFrame()\n",
    "\n",
    "    for col in numeric_columns:\n",
    "        # Resample from the original column's values\n",
    "        generated_numeric_data[col] = np.random.choice(original_df[col], size=num_rows, replace=True)\n",
    "    \n",
    "    return generated_numeric_data"
   ]
  },
  {
   "cell_type": "code",
   "execution_count": 48,
   "id": "56336ebd-9062-4273-9216-fa1528d34030",
   "metadata": {
    "tags": []
   },
   "outputs": [],
   "source": [
    "def create_new_dataframe(text):\n",
    "    obs = text.split('\\n')\n",
    "    data_dicts = []\n",
    "    for line in obs:\n",
    "        pairs = line.split(', ')\n",
    "        entry_dict = {}\n",
    "        for pair in pairs:\n",
    "            if ': ' in pair:\n",
    "                k, v = pair.split(': ', 1)  \n",
    "                entry_dict[k.strip()] = v.strip()\n",
    "        data_dicts.append(entry_dict)\n",
    "    return pd.DataFrame(data_dicts)\n"
   ]
  },
  {
   "cell_type": "code",
   "execution_count": 49,
   "id": "eb4cb2c8-77ea-4bb4-b7ea-b32416598ced",
   "metadata": {
    "tags": []
   },
   "outputs": [],
   "source": [
    "def generate_combined_data(csv_data, num_examples, schema, row_tokens):\n",
    "    # Generate numeric\n",
    "    numeric_data = generate_numeric(csv_data, num_examples)\n",
    "\n",
    "    # Generate categorical and text \n",
    "    response_text = generate_response_for_categorical_and_text(csv_data, num_examples, schema, row_tokens)\n",
    "    categorical_and_text_data = create_new_dataframe(response_text)\n",
    "\n",
    "    # Combine numeric and categorical/text data\n",
    "    combined_data = pd.concat([numeric_data.reset_index(drop=True), categorical_and_text_data.reset_index(drop=True)], axis=1)\n",
    "\n",
    "    # Ensure the combined data has the same column order as the original dataset\n",
    "    combined_data = combined_data[csv_data.columns]\n",
    "\n",
    "    return combined_data"
   ]
  },
  {
   "cell_type": "code",
   "execution_count": 50,
   "id": "f55fe65e-0807-40ca-829c-c130c1c98094",
   "metadata": {
    "tags": []
   },
   "outputs": [],
   "source": [
    "def gen_all_obs(gen_cycles, csv_data, num_examples, schema, row_tokens):\n",
    "    df_list = []\n",
    "    for i in tqdm(range(gen_cycles), desc=\"Generating Observations\"):\n",
    "        temp = generate_combined_data(csv_data, num_examples, schema, row_tokens)\n",
    "        df_list.append(temp)\n",
    "    final_df = pd.concat(df_list, ignore_index=True)\n",
    "    return final_df"
   ]
  },
  {
   "cell_type": "code",
   "execution_count": 51,
   "id": "95d099ba-56ea-4e3a-8f29-4ce4a295dbb5",
   "metadata": {
    "tags": []
   },
   "outputs": [],
   "source": [
    "def fill_missing_cat(new_data,schema,col):\n",
    "    distribution = schema[col]['distribution']\n",
    "    cat = list(distribution.keys())\n",
    "    probs =  list(distribution.values())\n",
    "    \n",
    "    missing_idx = new_data[new_data[col].isnull()].index\n",
    "    \n",
    "    sample_cat = np.random.choice(cat,size=len(missing_idx), p = probs)\n",
    "    \n",
    "    new_data.loc[missing_idx,col] = sample_cat\n",
    "    \n",
    "    return new_data\n",
    "    "
   ]
  },
  {
   "cell_type": "code",
   "execution_count": 52,
   "id": "6d645c9a-10fb-4709-901f-580108fe922d",
   "metadata": {
    "tags": []
   },
   "outputs": [],
   "source": [
    "## run ##"
   ]
  },
  {
   "cell_type": "code",
   "execution_count": 53,
   "id": "8fbc581e-8540-43d5-b908-eb55045465fd",
   "metadata": {
    "tags": []
   },
   "outputs": [],
   "source": [
    "# Load the file\n",
    "file_path = \"housing.csv\"\n",
    "csv_data = pd.read_csv(file_path)"
   ]
  },
  {
   "cell_type": "code",
   "execution_count": 54,
   "id": "2791036a-b2a6-4c4d-b746-cbd5181dd6af",
   "metadata": {
    "tags": []
   },
   "outputs": [],
   "source": [
    "# Define model parameters\n",
    "top_k = 50\n",
    "top_p = 0.9\n",
    "temperature = 0\n",
    "llm = load_model(top_k, top_p, temperature)"
   ]
  },
  {
   "cell_type": "code",
   "execution_count": 55,
   "id": "b3234005-09d9-4433-9a9d-6d4de333d916",
   "metadata": {
    "tags": []
   },
   "outputs": [],
   "source": [
    "# Generate schema from the dataset\n",
    "schema = generate_schema(csv_data)"
   ]
  },
  {
   "cell_type": "code",
   "execution_count": 56,
   "id": "54f0c12a-610d-4c66-a0ab-b727ee6076ba",
   "metadata": {
    "tags": []
   },
   "outputs": [],
   "source": [
    "# Define the number of tokens\n",
    "max_context_tokens = 200000  # Example context window size\n",
    "prompt_tokens = 2000  # Estimate for tokens used by the prompt\n",
    "response_token_buffer = 0.2"
   ]
  },
  {
   "cell_type": "code",
   "execution_count": 57,
   "id": "d6b97341-3379-4b86-9e41-4853ca999ffe",
   "metadata": {
    "tags": []
   },
   "outputs": [],
   "source": [
    "# Get the number of examples and tokens per row\n",
    "num_examples, row_tokens = max_examples(csv_data, max_context_tokens, prompt_tokens, response_token_buffer)"
   ]
  },
  {
   "cell_type": "code",
   "execution_count": 58,
   "id": "f48911f9-814d-4ad0-b20e-ac51110b6bdc",
   "metadata": {
    "tags": []
   },
   "outputs": [],
   "source": [
    "# Define the number of observations and cycles\n",
    "num_obs = 20000\n",
    "gen_cycles = math.ceil(num_obs / (20000 / row_tokens))"
   ]
  },
  {
   "cell_type": "code",
   "execution_count": 59,
   "id": "69d6c630-45ab-4f91-a5d3-ff575bdb1dc0",
   "metadata": {
    "tags": []
   },
   "outputs": [
    {
     "name": "stderr",
     "output_type": "stream",
     "text": [
      "Generating Observations: 100%|██████████| 25/25 [10:31<00:00, 25.27s/it]\n"
     ]
    }
   ],
   "source": [
    "# Generate observations with combined data generation (numeric resampling + LLM for categorical/text)\n",
    "obs_df = gen_all_obs(gen_cycles, csv_data, num_examples, schema, row_tokens)"
   ]
  },
  {
   "cell_type": "code",
   "execution_count": 60,
   "id": "9577f504-32dd-48aa-aad5-2edf57df2049",
   "metadata": {
    "tags": []
   },
   "outputs": [],
   "source": [
    "gen_df = obs_df[:num_obs]"
   ]
  },
  {
   "cell_type": "code",
   "execution_count": 61,
   "id": "e92b5b44-b70a-48b5-9b90-60ea1f7d4bc5",
   "metadata": {
    "tags": []
   },
   "outputs": [
    {
     "name": "stderr",
     "output_type": "stream",
     "text": [
      "/tmp/ipykernel_8011/2446309084.py:4: SettingWithCopyWarning: \n",
      "A value is trying to be set on a copy of a slice from a DataFrame.\n",
      "Try using .loc[row_indexer,col_indexer] = value instead\n",
      "\n",
      "See the caveats in the documentation: https://pandas.pydata.org/pandas-docs/stable/user_guide/indexing.html#returning-a-view-versus-a-copy\n",
      "  gen_df[column] = gen_df[column].astype(dtype)\n"
     ]
    }
   ],
   "source": [
    "types = dict(csv_data.dtypes)\n",
    "for column, dtype in types.items(): \n",
    "    try:\n",
    "        gen_df[column] = gen_df[column].astype(dtype)\n",
    "    except ValueError as e:\n",
    "\n",
    "        print(f\"Error converting {column} to {dtype}\")"
   ]
  },
  {
   "cell_type": "code",
   "execution_count": 62,
   "id": "f283fcfe-c4ba-4ec6-b7c1-9adbd0844196",
   "metadata": {
    "tags": []
   },
   "outputs": [],
   "source": [
    "cat_cols = csv_data.select_dtypes(exclude=[np.number]).columns\n",
    "for col in cat_cols:\n",
    "    final_df = fill_missing_cat(gen_df,schema,col)"
   ]
  },
  {
   "cell_type": "code",
   "execution_count": 63,
   "id": "0ffde51b-4b15-46f7-842f-0b8df593cf4d",
   "metadata": {
    "tags": []
   },
   "outputs": [],
   "source": [
    "final_df.to_csv('housing_new_20k.csv')"
   ]
  },
  {
   "cell_type": "code",
   "execution_count": 73,
   "id": "e985c8bf-be8b-4d5e-a692-23afc4f425e1",
   "metadata": {
    "tags": []
   },
   "outputs": [],
   "source": [
    "o_frq = csv_data['ocean_proximity'].value_counts(normalize=True)\n",
    "g_frq = final_df['ocean_proximity'].value_counts(normalize=True)"
   ]
  },
  {
   "cell_type": "code",
   "execution_count": 79,
   "id": "61dbc2e0-cbce-45c3-aeb3-365e2cbaf2fc",
   "metadata": {
    "tags": []
   },
   "outputs": [
    {
     "data": {
      "image/png": "[encoded data removed]",
      "text/plain": [
       "<Figure size 640x480 with 1 Axes>"
      ]
     },
     "metadata": {},
     "output_type": "display_data"
    },
    {
     "data": {
      "text/plain": [
       "<Figure size 640x480 with 0 Axes>"
      ]
     },
     "metadata": {},
     "output_type": "display_data"
    }
   ],
   "source": [
    "f_df = pd.DataFrame({\"Original\": o_frq,\"Generated\": g_frq}).fillna(0)\n",
    "f_df.plot(kind=\"bar\", width=0.8)\n",
    "plt.title(f'Category Frequency Comparison: ocean_proximity')\n",
    "plt.show()\n",
    "plt.savefig(\"Frequency.png\") "
   ]
  },
  {
   "cell_type": "code",
   "execution_count": 77,
   "id": "caaf473a-1e3c-4d71-afcc-9b58ac9c011f",
   "metadata": {
    "tags": []
   },
   "outputs": [
    {
     "data": {
      "image/png": "[encoded data removed]",
      "text/plain": [
       "<Figure size 640x480 with 1 Axes>"
      ]
     },
     "metadata": {},
     "output_type": "display_data"
    }
   ],
   "source": [
    "import seaborn as sns\n",
    "sns.kdeplot(data=csv_data, x=\"housing_median_age\", label='Original', color='blue')\n",
    "sns.kdeplot(data=final_df, x=\"housing_median_age\", label='Generated',color = 'orange')\n",
    "plt.title(f'Distribution Comparison housing_median_age')\n",
    "plt.legend()\n",
    "plt.show\n",
    "plt.savefig(\"Distribution.png\") "
   ]
  },
  {
   "cell_type": "code",
   "execution_count": null,
   "id": "8d1f4fc3-86d2-4690-8afa-30f03e41b5ff",
   "metadata": {
    "tags": []
   },
   "outputs": [],
   "source": []
  },
  {
   "cell_type": "code",
   "execution_count": 65,
   "id": "fceac113-7274-4d39-b87d-649da7a59bb6",
   "metadata": {},
   "outputs": [],
   "source": [
    "def distribution_check_summary(original_data,new_data, p_value_threshold=0.05):\n",
    "    results = []\n",
    "    num_cols = original_data.select_dtypes(include=[np.number]).columns\n",
    "    cat_cols = original_data.select_dtypes(exclude=[np.number]).columns\n",
    "    \n",
    "    for col in num_cols: \n",
    "        ks_stat, p_value = ks_2samp(original_data[col], new_data[col])\n",
    "        result = \"Pass\" if p_value > p_value_threshold else \"Fail\"\n",
    "        \n",
    "        results.append({'Column': col,\n",
    "                        'Type': 'Numeric',\n",
    "                        'P-Value': p_value,\n",
    "                        'Test': 'KS Test',\n",
    "                        'Result': result\n",
    "                       }\n",
    "            )\n",
    "        \n",
    "    for col in cat_cols: \n",
    "        original_count = original_data[col].value_counts()\n",
    "        new_count = new_data[col].value_counts()\n",
    "        \n",
    "        counts = pd.DataFrame({'original': original_count, 'generated': new_count}).fillna(0)\n",
    "        chi2_stat, p_value, dof, ex = chi2_contingency(counts.T)\n",
    "        result = \"Pass\" if p_value > p_value_threshold else \"Fail\"\n",
    "        \n",
    "        results.append({'Column': col,\n",
    "                        'Type': 'Categorical',\n",
    "                        'P-Value': p_value,\n",
    "                        'Test': 'Chai-Square Test',\n",
    "                        'Result': result\n",
    "                       }\n",
    "            ) \n",
    "    result_df = pd.DataFrame(results)\n",
    "    return result_df"
   ]
  },
  {
   "cell_type": "code",
   "execution_count": 66,
   "id": "f9f93a36-f14c-4a33-8fd3-bfd3c8d67069",
   "metadata": {
    "tags": []
   },
   "outputs": [
    {
     "data": {
      "text/html": [
       "<div>\n",
       "<style scoped>\n",
       "    .dataframe tbody tr th:only-of-type {\n",
       "        vertical-align: middle;\n",
       "    }\n",
       "\n",
       "    .dataframe tbody tr th {\n",
       "        vertical-align: top;\n",
       "    }\n",
       "\n",
       "    .dataframe thead th {\n",
       "        text-align: right;\n",
       "    }\n",
       "</style>\n",
       "<table border=\"1\" class=\"dataframe\">\n",
       "  <thead>\n",
       "    <tr style=\"text-align: right;\">\n",
       "      <th></th>\n",
       "      <th>Column</th>\n",
       "      <th>Type</th>\n",
       "      <th>P-Value</th>\n",
       "      <th>Test</th>\n",
       "      <th>Result</th>\n",
       "    </tr>\n",
       "  </thead>\n",
       "  <tbody>\n",
       "    <tr>\n",
       "      <th>0</th>\n",
       "      <td>longitude</td>\n",
       "      <td>Numeric</td>\n",
       "      <td>0.896828</td>\n",
       "      <td>KS Test</td>\n",
       "      <td>Pass</td>\n",
       "    </tr>\n",
       "    <tr>\n",
       "      <th>1</th>\n",
       "      <td>latitude</td>\n",
       "      <td>Numeric</td>\n",
       "      <td>0.750496</td>\n",
       "      <td>KS Test</td>\n",
       "      <td>Pass</td>\n",
       "    </tr>\n",
       "    <tr>\n",
       "      <th>2</th>\n",
       "      <td>housing_median_age</td>\n",
       "      <td>Numeric</td>\n",
       "      <td>0.360406</td>\n",
       "      <td>KS Test</td>\n",
       "      <td>Pass</td>\n",
       "    </tr>\n",
       "    <tr>\n",
       "      <th>3</th>\n",
       "      <td>total_rooms</td>\n",
       "      <td>Numeric</td>\n",
       "      <td>0.214770</td>\n",
       "      <td>KS Test</td>\n",
       "      <td>Pass</td>\n",
       "    </tr>\n",
       "    <tr>\n",
       "      <th>4</th>\n",
       "      <td>total_bedrooms</td>\n",
       "      <td>Numeric</td>\n",
       "      <td>0.857162</td>\n",
       "      <td>KS Test</td>\n",
       "      <td>Pass</td>\n",
       "    </tr>\n",
       "    <tr>\n",
       "      <th>5</th>\n",
       "      <td>population</td>\n",
       "      <td>Numeric</td>\n",
       "      <td>0.773815</td>\n",
       "      <td>KS Test</td>\n",
       "      <td>Pass</td>\n",
       "    </tr>\n",
       "    <tr>\n",
       "      <th>6</th>\n",
       "      <td>households</td>\n",
       "      <td>Numeric</td>\n",
       "      <td>0.981859</td>\n",
       "      <td>KS Test</td>\n",
       "      <td>Pass</td>\n",
       "    </tr>\n",
       "    <tr>\n",
       "      <th>7</th>\n",
       "      <td>median_income</td>\n",
       "      <td>Numeric</td>\n",
       "      <td>0.841832</td>\n",
       "      <td>KS Test</td>\n",
       "      <td>Pass</td>\n",
       "    </tr>\n",
       "    <tr>\n",
       "      <th>8</th>\n",
       "      <td>median_house_value</td>\n",
       "      <td>Numeric</td>\n",
       "      <td>0.928085</td>\n",
       "      <td>KS Test</td>\n",
       "      <td>Pass</td>\n",
       "    </tr>\n",
       "    <tr>\n",
       "      <th>9</th>\n",
       "      <td>ocean_proximity</td>\n",
       "      <td>Categorical</td>\n",
       "      <td>0.901980</td>\n",
       "      <td>Chai-Square Test</td>\n",
       "      <td>Pass</td>\n",
       "    </tr>\n",
       "  </tbody>\n",
       "</table>\n",
       "</div>"
      ],
      "text/plain": [
       "               Column         Type   P-Value              Test Result\n",
       "0           longitude      Numeric  0.896828           KS Test   Pass\n",
       "1            latitude      Numeric  0.750496           KS Test   Pass\n",
       "2  housing_median_age      Numeric  0.360406           KS Test   Pass\n",
       "3         total_rooms      Numeric  0.214770           KS Test   Pass\n",
       "4      total_bedrooms      Numeric  0.857162           KS Test   Pass\n",
       "5          population      Numeric  0.773815           KS Test   Pass\n",
       "6          households      Numeric  0.981859           KS Test   Pass\n",
       "7       median_income      Numeric  0.841832           KS Test   Pass\n",
       "8  median_house_value      Numeric  0.928085           KS Test   Pass\n",
       "9     ocean_proximity  Categorical  0.901980  Chai-Square Test   Pass"
      ]
     },
     "execution_count": 66,
     "metadata": {},
     "output_type": "execute_result"
    }
   ],
   "source": [
    "distribution_check_summary(csv_data,final_df)"
   ]
  },
  {
   "cell_type": "code",
   "execution_count": null,
   "id": "83630218-30ac-42de-a310-89a14b5c4360",
   "metadata": {},
   "outputs": [],
   "source": []
  },
  {
   "cell_type": "code",
   "execution_count": null,
   "id": "a2b8f1e9-a790-4950-83e0-09616bfd0411",
   "metadata": {},
   "outputs": [],
   "source": []
  }
 ],
 "metadata": {
  "availableInstances": [
   {
    "_defaultOrder": 0,
    "_isFastLaunch": true,
    "category": "General purpose",
    "gpuNum": 0,
    "hideHardwareSpecs": false,
    "memoryGiB": 4,
    "name": "ml.t3.medium",
    "vcpuNum": 2
   },
   {
    "_defaultOrder": 1,
    "_isFastLaunch": false,
    "category": "General purpose",
    "gpuNum": 0,
    "hideHardwareSpecs": false,
    "memoryGiB": 8,
    "name": "ml.t3.large",
    "vcpuNum": 2
   },
   {
    "_defaultOrder": 2,
    "_isFastLaunch": false,
    "category": "General purpose",
    "gpuNum": 0,
    "hideHardwareSpecs": false,
    "memoryGiB": 16,
    "name": "ml.t3.xlarge",
    "vcpuNum": 4
   },
   {
    "_defaultOrder": 3,
    "_isFastLaunch": false,
    "category": "General purpose",
    "gpuNum": 0,
    "hideHardwareSpecs": false,
    "memoryGiB": 32,
    "name": "ml.t3.2xlarge",
    "vcpuNum": 8
   },
   {
    "_defaultOrder": 4,
    "_isFastLaunch": true,
    "category": "General purpose",
    "gpuNum": 0,
    "hideHardwareSpecs": false,
    "memoryGiB": 8,
    "name": "ml.m5.large",
    "vcpuNum": 2
   },
   {
    "_defaultOrder": 5,
    "_isFastLaunch": false,
    "category": "General purpose",
    "gpuNum": 0,
    "hideHardwareSpecs": false,
    "memoryGiB": 16,
    "name": "ml.m5.xlarge",
    "vcpuNum": 4
   },
   {
    "_defaultOrder": 6,
    "_isFastLaunch": false,
    "category": "General purpose",
    "gpuNum": 0,
    "hideHardwareSpecs": false,
    "memoryGiB": 32,
    "name": "ml.m5.2xlarge",
    "vcpuNum": 8
   },
   {
    "_defaultOrder": 7,
    "_isFastLaunch": false,
    "category": "General purpose",
    "gpuNum": 0,
    "hideHardwareSpecs": false,
    "memoryGiB": 64,
    "name": "ml.m5.4xlarge",
    "vcpuNum": 16
   },
   {
    "_defaultOrder": 8,
    "_isFastLaunch": false,
    "category": "General purpose",
    "gpuNum": 0,
    "hideHardwareSpecs": false,
    "memoryGiB": 128,
    "name": "ml.m5.8xlarge",
    "vcpuNum": 32
   },
   {
    "_defaultOrder": 9,
    "_isFastLaunch": false,
    "category": "General purpose",
    "gpuNum": 0,
    "hideHardwareSpecs": false,
    "memoryGiB": 192,
    "name": "ml.m5.12xlarge",
    "vcpuNum": 48
   },
   {
    "_defaultOrder": 10,
    "_isFastLaunch": false,
    "category": "General purpose",
    "gpuNum": 0,
    "hideHardwareSpecs": false,
    "memoryGiB": 256,
    "name": "ml.m5.16xlarge",
    "vcpuNum": 64
   },
   {
    "_defaultOrder": 11,
    "_isFastLaunch": false,
    "category": "General purpose",
    "gpuNum": 0,
    "hideHardwareSpecs": false,
    "memoryGiB": 384,
    "name": "ml.m5.24xlarge",
    "vcpuNum": 96
   },
   {
    "_defaultOrder": 12,
    "_isFastLaunch": false,
    "category": "General purpose",
    "gpuNum": 0,
    "hideHardwareSpecs": false,
    "memoryGiB": 8,
    "name": "ml.m5d.large",
    "vcpuNum": 2
   },
   {
    "_defaultOrder": 13,
    "_isFastLaunch": false,
    "category": "General purpose",
    "gpuNum": 0,
    "hideHardwareSpecs": false,
    "memoryGiB": 16,
    "name": "ml.m5d.xlarge",
    "vcpuNum": 4
   },
   {
    "_defaultOrder": 14,
    "_isFastLaunch": false,
    "category": "General purpose",
    "gpuNum": 0,
    "hideHardwareSpecs": false,
    "memoryGiB": 32,
    "name": "ml.m5d.2xlarge",
    "vcpuNum": 8
   },
   {
    "_defaultOrder": 15,
    "_isFastLaunch": false,
    "category": "General purpose",
    "gpuNum": 0,
    "hideHardwareSpecs": false,
    "memoryGiB": 64,
    "name": "ml.m5d.4xlarge",
    "vcpuNum": 16
   },
   {
    "_defaultOrder": 16,
    "_isFastLaunch": false,
    "category": "General purpose",
    "gpuNum": 0,
    "hideHardwareSpecs": false,
    "memoryGiB": 128,
    "name": "ml.m5d.8xlarge",
    "vcpuNum": 32
   },
   {
    "_defaultOrder": 17,
    "_isFastLaunch": false,
    "category": "General purpose",
    "gpuNum": 0,
    "hideHardwareSpecs": false,
    "memoryGiB": 192,
    "name": "ml.m5d.12xlarge",
    "vcpuNum": 48
   },
   {
    "_defaultOrder": 18,
    "_isFastLaunch": false,
    "category": "General purpose",
    "gpuNum": 0,
    "hideHardwareSpecs": false,
    "memoryGiB": 256,
    "name": "ml.m5d.16xlarge",
    "vcpuNum": 64
   },
   {
    "_defaultOrder": 19,
    "_isFastLaunch": false,
    "category": "General purpose",
    "gpuNum": 0,
    "hideHardwareSpecs": false,
    "memoryGiB": 384,
    "name": "ml.m5d.24xlarge",
    "vcpuNum": 96
   },
   {
    "_defaultOrder": 20,
    "_isFastLaunch": false,
    "category": "General purpose",
    "gpuNum": 0,
    "hideHardwareSpecs": true,
    "memoryGiB": 0,
    "name": "ml.geospatial.interactive",
    "supportedImageNames": [
     "sagemaker-geospatial-v1-0"
    ],
    "vcpuNum": 0
   },
   {
    "_defaultOrder": 21,
    "_isFastLaunch": true,
    "category": "Compute optimized",
    "gpuNum": 0,
    "hideHardwareSpecs": false,
    "memoryGiB": 4,
    "name": "ml.c5.large",
    "vcpuNum": 2
   },
   {
    "_defaultOrder": 22,
    "_isFastLaunch": false,
    "category": "Compute optimized",
    "gpuNum": 0,
    "hideHardwareSpecs": false,
    "memoryGiB": 8,
    "name": "ml.c5.xlarge",
    "vcpuNum": 4
   },
   {
    "_defaultOrder": 23,
    "_isFastLaunch": false,
    "category": "Compute optimized",
    "gpuNum": 0,
    "hideHardwareSpecs": false,
    "memoryGiB": 16,
    "name": "ml.c5.2xlarge",
    "vcpuNum": 8
   },
   {
    "_defaultOrder": 24,
    "_isFastLaunch": false,
    "category": "Compute optimized",
    "gpuNum": 0,
    "hideHardwareSpecs": false,
    "memoryGiB": 32,
    "name": "ml.c5.4xlarge",
    "vcpuNum": 16
   },
   {
    "_defaultOrder": 25,
    "_isFastLaunch": false,
    "category": "Compute optimized",
    "gpuNum": 0,
    "hideHardwareSpecs": false,
    "memoryGiB": 72,
    "name": "ml.c5.9xlarge",
    "vcpuNum": 36
   },
   {
    "_defaultOrder": 26,
    "_isFastLaunch": false,
    "category": "Compute optimized",
    "gpuNum": 0,
    "hideHardwareSpecs": false,
    "memoryGiB": 96,
    "name": "ml.c5.12xlarge",
    "vcpuNum": 48
   },
   {
    "_defaultOrder": 27,
    "_isFastLaunch": false,
    "category": "Compute optimized",
    "gpuNum": 0,
    "hideHardwareSpecs": false,
    "memoryGiB": 144,
    "name": "ml.c5.18xlarge",
    "vcpuNum": 72
   },
   {
    "_defaultOrder": 28,
    "_isFastLaunch": false,
    "category": "Compute optimized",
    "gpuNum": 0,
    "hideHardwareSpecs": false,
    "memoryGiB": 192,
    "name": "ml.c5.24xlarge",
    "vcpuNum": 96
   },
   {
    "_defaultOrder": 29,
    "_isFastLaunch": true,
    "category": "Accelerated computing",
    "gpuNum": 1,
    "hideHardwareSpecs": false,
    "memoryGiB": 16,
    "name": "ml.g4dn.xlarge",
    "vcpuNum": 4
   },
   {
    "_defaultOrder": 30,
    "_isFastLaunch": false,
    "category": "Accelerated computing",
    "gpuNum": 1,
    "hideHardwareSpecs": false,
    "memoryGiB": 32,
    "name": "ml.g4dn.2xlarge",
    "vcpuNum": 8
   },
   {
    "_defaultOrder": 31,
    "_isFastLaunch": false,
    "category": "Accelerated computing",
    "gpuNum": 1,
    "hideHardwareSpecs": false,
    "memoryGiB": 64,
    "name": "ml.g4dn.4xlarge",
    "vcpuNum": 16
   },
   {
    "_defaultOrder": 32,
    "_isFastLaunch": false,
    "category": "Accelerated computing",
    "gpuNum": 1,
    "hideHardwareSpecs": false,
    "memoryGiB": 128,
    "name": "ml.g4dn.8xlarge",
    "vcpuNum": 32
   },
   {
    "_defaultOrder": 33,
    "_isFastLaunch": false,
    "category": "Accelerated computing",
    "gpuNum": 4,
    "hideHardwareSpecs": false,
    "memoryGiB": 192,
    "name": "ml.g4dn.12xlarge",
    "vcpuNum": 48
   },
   {
    "_defaultOrder": 34,
    "_isFastLaunch": false,
    "category": "Accelerated computing",
    "gpuNum": 1,
    "hideHardwareSpecs": false,
    "memoryGiB": 256,
    "name": "ml.g4dn.16xlarge",
    "vcpuNum": 64
   },
   {
    "_defaultOrder": 35,
    "_isFastLaunch": false,
    "category": "Accelerated computing",
    "gpuNum": 1,
    "hideHardwareSpecs": false,
    "memoryGiB": 61,
    "name": "ml.p3.2xlarge",
    "vcpuNum": 8
   },
   {
    "_defaultOrder": 36,
    "_isFastLaunch": false,
    "category": "Accelerated computing",
    "gpuNum": 4,
    "hideHardwareSpecs": false,
    "memoryGiB": 244,
    "name": "ml.p3.8xlarge",
    "vcpuNum": 32
   },
   {
    "_defaultOrder": 37,
    "_isFastLaunch": false,
    "category": "Accelerated computing",
    "gpuNum": 8,
    "hideHardwareSpecs": false,
    "memoryGiB": 488,
    "name": "ml.p3.16xlarge",
    "vcpuNum": 64
   },
   {
    "_defaultOrder": 38,
    "_isFastLaunch": false,
    "category": "Accelerated computing",
    "gpuNum": 8,
    "hideHardwareSpecs": false,
    "memoryGiB": 768,
    "name": "ml.p3dn.24xlarge",
    "vcpuNum": 96
   },
   {
    "_defaultOrder": 39,
    "_isFastLaunch": false,
    "category": "Memory Optimized",
    "gpuNum": 0,
    "hideHardwareSpecs": false,
    "memoryGiB": 16,
    "name": "ml.r5.large",
    "vcpuNum": 2
   },
   {
    "_defaultOrder": 40,
    "_isFastLaunch": false,
    "category": "Memory Optimized",
    "gpuNum": 0,
    "hideHardwareSpecs": false,
    "memoryGiB": 32,
    "name": "ml.r5.xlarge",
    "vcpuNum": 4
   },
   {
    "_defaultOrder": 41,
    "_isFastLaunch": false,
    "category": "Memory Optimized",
    "gpuNum": 0,
    "hideHardwareSpecs": false,
    "memoryGiB": 64,
    "name": "ml.r5.2xlarge",
    "vcpuNum": 8
   },
   {
    "_defaultOrder": 42,
    "_isFastLaunch": false,
    "category": "Memory Optimized",
    "gpuNum": 0,
    "hideHardwareSpecs": false,
    "memoryGiB": 128,
    "name": "ml.r5.4xlarge",
    "vcpuNum": 16
   },
   {
    "_defaultOrder": 43,
    "_isFastLaunch": false,
    "category": "Memory Optimized",
    "gpuNum": 0,
    "hideHardwareSpecs": false,
    "memoryGiB": 256,
    "name": "ml.r5.8xlarge",
    "vcpuNum": 32
   },
   {
    "_defaultOrder": 44,
    "_isFastLaunch": false,
    "category": "Memory Optimized",
    "gpuNum": 0,
    "hideHardwareSpecs": false,
    "memoryGiB": 384,
    "name": "ml.r5.12xlarge",
    "vcpuNum": 48
   },
   {
    "_defaultOrder": 45,
    "_isFastLaunch": false,
    "category": "Memory Optimized",
    "gpuNum": 0,
    "hideHardwareSpecs": false,
    "memoryGiB": 512,
    "name": "ml.r5.16xlarge",
    "vcpuNum": 64
   },
   {
    "_defaultOrder": 46,
    "_isFastLaunch": false,
    "category": "Memory Optimized",
    "gpuNum": 0,
    "hideHardwareSpecs": false,
    "memoryGiB": 768,
    "name": "ml.r5.24xlarge",
    "vcpuNum": 96
   },
   {
    "_defaultOrder": 47,
    "_isFastLaunch": false,
    "category": "Accelerated computing",
    "gpuNum": 1,
    "hideHardwareSpecs": false,
    "memoryGiB": 16,
    "name": "ml.g5.xlarge",
    "vcpuNum": 4
   },
   {
    "_defaultOrder": 48,
    "_isFastLaunch": false,
    "category": "Accelerated computing",
    "gpuNum": 1,
    "hideHardwareSpecs": false,
    "memoryGiB": 32,
    "name": "ml.g5.2xlarge",
    "vcpuNum": 8
   },
   {
    "_defaultOrder": 49,
    "_isFastLaunch": false,
    "category": "Accelerated computing",
    "gpuNum": 1,
    "hideHardwareSpecs": false,
    "memoryGiB": 64,
    "name": "ml.g5.4xlarge",
    "vcpuNum": 16
   },
   {
    "_defaultOrder": 50,
    "_isFastLaunch": false,
    "category": "Accelerated computing",
    "gpuNum": 1,
    "hideHardwareSpecs": false,
    "memoryGiB": 128,
    "name": "ml.g5.8xlarge",
    "vcpuNum": 32
   },
   {
    "_defaultOrder": 51,
    "_isFastLaunch": false,
    "category": "Accelerated computing",
    "gpuNum": 1,
    "hideHardwareSpecs": false,
    "memoryGiB": 256,
    "name": "ml.g5.16xlarge",
    "vcpuNum": 64
   },
   {
    "_defaultOrder": 52,
    "_isFastLaunch": false,
    "category": "Accelerated computing",
    "gpuNum": 4,
    "hideHardwareSpecs": false,
    "memoryGiB": 192,
    "name": "ml.g5.12xlarge",
    "vcpuNum": 48
   },
   {
    "_defaultOrder": 53,
    "_isFastLaunch": false,
    "category": "Accelerated computing",
    "gpuNum": 4,
    "hideHardwareSpecs": false,
    "memoryGiB": 384,
    "name": "ml.g5.24xlarge",
    "vcpuNum": 96
   },
   {
    "_defaultOrder": 54,
    "_isFastLaunch": false,
    "category": "Accelerated computing",
    "gpuNum": 8,
    "hideHardwareSpecs": false,
    "memoryGiB": 768,
    "name": "ml.g5.48xlarge",
    "vcpuNum": 192
   },
   {
    "_defaultOrder": 55,
    "_isFastLaunch": false,
    "category": "Accelerated computing",
    "gpuNum": 8,
    "hideHardwareSpecs": false,
    "memoryGiB": 1152,
    "name": "ml.p4d.24xlarge",
    "vcpuNum": 96
   },
   {
    "_defaultOrder": 56,
    "_isFastLaunch": false,
    "category": "Accelerated computing",
    "gpuNum": 8,
    "hideHardwareSpecs": false,
    "memoryGiB": 1152,
    "name": "ml.p4de.24xlarge",
    "vcpuNum": 96
   },
   {
    "_defaultOrder": 57,
    "_isFastLaunch": false,
    "category": "Accelerated computing",
    "gpuNum": 0,
    "hideHardwareSpecs": false,
    "memoryGiB": 32,
    "name": "ml.trn1.2xlarge",
    "vcpuNum": 8
   },
   {
    "_defaultOrder": 58,
    "_isFastLaunch": false,
    "category": "Accelerated computing",
    "gpuNum": 0,
    "hideHardwareSpecs": false,
    "memoryGiB": 512,
    "name": "ml.trn1.32xlarge",
    "vcpuNum": 128
   },
   {
    "_defaultOrder": 59,
    "_isFastLaunch": false,
    "category": "Accelerated computing",
    "gpuNum": 0,
    "hideHardwareSpecs": false,
    "memoryGiB": 512,
    "name": "ml.trn1n.32xlarge",
    "vcpuNum": 128
   }
  ],
  "instance_type": "ml.g4dn.xlarge",
  "kernelspec": {
   "display_name": "Python 3 (PyTorch 2.0.0 Python 3.10 GPU Optimized)",
   "language": "python",
   "name": "python3__SAGEMAKER_INTERNAL__arn:aws:sagemaker:us-east-1:081325390199:image/pytorch-2.0.0-gpu-py310"
  },
  "language_info": {
   "codemirror_mode": {
    "name": "ipython",
    "version": 3
   },
   "file_extension": ".py",
   "mimetype": "text/x-python",
   "name": "python",
   "nbconvert_exporter": "python",
   "pygments_lexer": "ipython3",
   "version": "3.10.8"
  }
 },
 "nbformat": 4,
 "nbformat_minor": 5
}
